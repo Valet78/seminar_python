{
 "cells": [
  {
   "attachments": {},
   "cell_type": "markdown",
   "metadata": {},
   "source": [
    "Дана функция **f(x) = 5x^2 + 10x - 30**\n",
    "---\n",
    "1. Определить корни (найти такие х при которых f(x) = 0)\n",
    "\n",
    "2. Найти интервалы, на которых функция возрастает (f'(x) > 0)\n",
    "\n",
    "3. Найти интервалы, на которых функция убывает (f'(x) < 0)\n",
    "\n",
    "4. Построить график\n",
    "\n",
    "5. Вычислить вершину (Такие х где f'(x) = 0)\n",
    "\n",
    "6. Определить промежутки, на котором f > 0 (решить неравенство f(x)>< 0)\n",
    "\n",
    "7. Определить промежутки, на котором f < 0\n",
    "\n",
    "<b>Что потребуется:</b>\n",
    "Решение уравнений, нахождение производных, построение графика, решение неравенств."
   ]
  },
  {
   "cell_type": "code",
   "execution_count": 1,
   "metadata": {},
   "outputs": [
    {
     "data": {
      "text/latex": [
       "$\\displaystyle 5 x^{2} + 10 x - 30$"
      ],
      "text/plain": [
       "5*x**2 + 10*x - 30"
      ]
     },
     "execution_count": 1,
     "metadata": {},
     "output_type": "execute_result"
    }
   ],
   "source": [
    "import matplotlib.pyplot as plt\n",
    "import numpy as np\n",
    "# from sympy import diff, expand, symbols, roots, solveset\n",
    "from sympy.abc import x\n",
    "import sympy as smp\n",
    "\n",
    "k1, k2, k3 = 5, 10, -30     # k1 > 0 -> парабола направлена ветвями вверх, экстремум - минимальная точка графика\n",
    "exp_f = smp.expand(k1*x**2 + k2*x + k3)\n",
    "exp_f"
   ]
  },
  {
   "attachments": {},
   "cell_type": "markdown",
   "metadata": {},
   "source": [
    "### 1. Определяем корни"
   ]
  },
  {
   "cell_type": "code",
   "execution_count": 2,
   "metadata": {},
   "outputs": [
    {
     "name": "stdout",
     "output_type": "stream",
     "text": [
      "X1= 1.6457513110645905, X2=-3.6457513110645907\n"
     ]
    }
   ],
   "source": [
    "def rts(a, b, c):\n",
    "    D = b ** 2 - 4 * a * c\n",
    "    d = D ** 0.5\n",
    "    if D > 0:\n",
    "        x1 = (-b + d) / (2 * a)\n",
    "        x2 = (-b - d) / (2 * a)    \n",
    "        return 2, x1, x2\n",
    "    elif D == 0:\n",
    "        x1 = -b / (2 * a)\n",
    "        return 1, x1, x1\n",
    "    else:\n",
    "        return 0, 0, 0\n",
    " \n",
    "\n",
    "res_rts = rts(k1, k2, k3)\n",
    "d, x1, x2 = res_rts\n",
    "if d==2: print(f'X1= {x1}, X2={x2}')\n",
    "elif d==1: print(f'X1= {x1}')\n",
    "else: print('Уровнение корней не имеет.')"
   ]
  },
  {
   "attachments": {},
   "cell_type": "markdown",
   "metadata": {},
   "source": [
    "### 2. Находим интервалы, на которых функция возрастает (f'(x) > 0)"
   ]
  },
  {
   "cell_type": "code",
   "execution_count": 3,
   "metadata": {},
   "outputs": [
    {
     "data": {
      "text/latex": [
       "$\\displaystyle 10 x + 10$"
      ],
      "text/plain": [
       "10*x + 10"
      ]
     },
     "execution_count": 3,
     "metadata": {},
     "output_type": "execute_result"
    }
   ],
   "source": [
    "diff_fun = smp.diff(exp_f, x) # дифферинциал функции\n",
    "diff_fun"
   ]
  },
  {
   "cell_type": "code",
   "execution_count": 4,
   "metadata": {},
   "outputs": [
    {
     "data": {
      "text/latex": [
       "$\\displaystyle \\left\\{-1\\right\\}$"
      ],
      "text/plain": [
       "{-1}"
      ]
     },
     "execution_count": 4,
     "metadata": {},
     "output_type": "execute_result"
    }
   ],
   "source": [
    "extr_x = smp.solveset(diff_fun, x)  # экстремум x\n",
    "extr_x"
   ]
  },
  {
   "cell_type": "code",
   "execution_count": 5,
   "metadata": {},
   "outputs": [
    {
     "name": "stdout",
     "output_type": "stream",
     "text": [
      "(-1, +∞)\n"
     ]
    }
   ],
   "source": [
    "x_top = next(iter(extr_x)) # преобразование в int значения X\n",
    "print(f'({x_top}, +∞)')"
   ]
  },
  {
   "cell_type": "code",
   "execution_count": 6,
   "metadata": {},
   "outputs": [
    {
     "data": {
      "text/latex": [
       "$\\displaystyle -1 < x \\wedge x < \\infty$"
      ],
      "text/plain": [
       "(-1 < x) & (x < oo)"
      ]
     },
     "execution_count": 6,
     "metadata": {},
     "output_type": "execute_result"
    }
   ],
   "source": [
    "grow_f = smp.solve(diff_fun > 0)\n",
    "grow_f"
   ]
  },
  {
   "attachments": {},
   "cell_type": "markdown",
   "metadata": {},
   "source": [
    "### 3. Найти интервалы, на которых функция убывает (f'(x) < 0)"
   ]
  },
  {
   "cell_type": "code",
   "execution_count": 7,
   "metadata": {},
   "outputs": [
    {
     "name": "stdout",
     "output_type": "stream",
     "text": [
      "(-∞, -1)\n"
     ]
    }
   ],
   "source": [
    "print(f'(-∞, {x_top})')"
   ]
  },
  {
   "cell_type": "code",
   "execution_count": 8,
   "metadata": {},
   "outputs": [
    {
     "data": {
      "text/latex": [
       "$\\displaystyle -\\infty < x \\wedge x < -1$"
      ],
      "text/plain": [
       "(-oo < x) & (x < -1)"
      ]
     },
     "execution_count": 8,
     "metadata": {},
     "output_type": "execute_result"
    }
   ],
   "source": [
    "drop_f = smp.solve(diff_fun < 0)\n",
    "drop_f"
   ]
  },
  {
   "attachments": {},
   "cell_type": "markdown",
   "metadata": {},
   "source": [
    "### 4. Строим график"
   ]
  },
  {
   "cell_type": "code",
   "execution_count": 9,
   "metadata": {},
   "outputs": [
    {
     "data": {
      "image/png": "[encoded data removed]",
      "text/plain": [
       "<Figure size 640x480 with 1 Axes>"
      ]
     },
     "metadata": {},
     "output_type": "display_data"
    }
   ],
   "source": [
    "if isinstance(res_rts, tuple):\n",
    "    points = x1, x2\n",
    "    y0 = 0, 0\n",
    "    plt.scatter(points, y0, color='red')\n",
    "else:\n",
    "    x = rts\n",
    "    points = x\n",
    "    y0 = 0\n",
    "    plt.scatter(points, y0, color='red')\n",
    " \n",
    " \n",
    "freq = 100  # частота дискретизации типо\n",
    "a, b = -10, 10  # здесь ручками выставляем пределы по оси икс\n",
    " \n",
    "# квадратичная функция\n",
    "xi = np.linspace(a, b, freq)\n",
    "yi = [k1 * t * t + k2 * t + k3 for t in xi]\n",
    "plt.plot(xi, yi) \n",
    " \n",
    "plt.grid()\n",
    "plt.show()"
   ]
  },
  {
   "cell_type": "code",
   "execution_count": 10,
   "metadata": {},
   "outputs": [
    {
     "data": {
      "image/png": "[encoded data removed]",
      "text/plain": [
       "<Figure size 640x480 with 1 Axes>"
      ]
     },
     "metadata": {},
     "output_type": "display_data"
    }
   ],
   "source": [
    "graf = smp.plot(exp_f, line_color='red', title='График заданной функции f(x) = 5x^2+10x-30')"
   ]
  },
  {
   "attachments": {},
   "cell_type": "markdown",
   "metadata": {},
   "source": [
    "### 5. Вычислить вершину (Такие х где f'(x) = 0)"
   ]
  },
  {
   "cell_type": "code",
   "execution_count": 11,
   "metadata": {},
   "outputs": [
    {
     "name": "stdout",
     "output_type": "stream",
     "text": [
      "Вершина бараболы, точка с координатами (-1, -35).\n"
     ]
    }
   ],
   "source": [
    "y_top = k1 * x_top**2 + k2 * x_top + k3\n",
    "print(f'Вершина бараболы, точка с координатами ({x_top}, {y_top}).')"
   ]
  },
  {
   "cell_type": "code",
   "execution_count": 12,
   "metadata": {},
   "outputs": [
    {
     "data": {
      "text/plain": [
       "[-1]"
      ]
     },
     "execution_count": 12,
     "metadata": {},
     "output_type": "execute_result"
    }
   ],
   "source": [
    "top_x = smp.solve(diff_fun)\n",
    "top_x"
   ]
  },
  {
   "attachments": {},
   "cell_type": "markdown",
   "metadata": {},
   "source": [
    "### 6. Определить промежутки, на котором f > 0 (решить неравенство f(x)>< 0)"
   ]
  },
  {
   "cell_type": "code",
   "execution_count": 13,
   "metadata": {},
   "outputs": [
    {
     "data": {
      "text/latex": [
       "$\\displaystyle \\left(-\\infty < x \\wedge x < - \\sqrt{7} - 1\\right) \\vee \\left(x < \\infty \\wedge -1 + \\sqrt{7} < x\\right)$"
      ],
      "text/plain": [
       "((x < oo) & (-1 + sqrt(7) < x)) | ((-oo < x) & (x < -sqrt(7) - 1))"
      ]
     },
     "execution_count": 13,
     "metadata": {},
     "output_type": "execute_result"
    }
   ],
   "source": [
    "pozit = smp.solve(exp_f > 0)\n",
    "pozit"
   ]
  },
  {
   "attachments": {},
   "cell_type": "markdown",
   "metadata": {},
   "source": [
    "### 7. Определить промежутки, на котором f(x) < 0"
   ]
  },
  {
   "cell_type": "code",
   "execution_count": 14,
   "metadata": {},
   "outputs": [
    {
     "data": {
      "text/latex": [
       "$\\displaystyle x < -1 + \\sqrt{7} \\wedge - \\sqrt{7} - 1 < x$"
      ],
      "text/plain": [
       "(x < -1 + sqrt(7)) & (-sqrt(7) - 1 < x)"
      ]
     },
     "execution_count": 14,
     "metadata": {},
     "output_type": "execute_result"
    }
   ],
   "source": [
    "negat = smp.solve(exp_f < 0)\n",
    "negat"
   ]
  }
 ],
 "metadata": {
  "kernelspec": {
   "display_name": "Python 3",
   "language": "python",
   "name": "python3"
  },
  "language_info": {
   "codemirror_mode": {
    "name": "ipython",
    "version": 3
   },
   "file_extension": ".py",
   "mimetype": "text/x-python",
   "name": "python",
   "nbconvert_exporter": "python",
   "pygments_lexer": "ipython3",
   "version": "3.10.8"
  },
  "orig_nbformat": 4,
  "vscode": {
   "interpreter": {
    "hash": "e64600e1e1dc76d2187cb16fde45202aeb55d6e2f6b7519202b0d2d69b967e74"
   }
  }
 },
 "nbformat": 4,
 "nbformat_minor": 2
}
