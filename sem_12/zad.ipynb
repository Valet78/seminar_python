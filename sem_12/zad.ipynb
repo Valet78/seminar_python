{
 "cells": [
  {
   "attachments": {},
   "cell_type": "markdown",
   "metadata": {},
   "source": [
    "## Дана задача:\n",
    "\n",
    "*К аналитику обратился риэлтор c задачей выставить ценник для продажи объектов недвижимости площадью 48м2 и 54м2. В ходе работы над задачей аналитик выяснил, что:*\n",
    "\n",
    "объект 31м2 стоит $19310\n",
    "\n",
    "объект 51м2 стоит $52150\n",
    "\n",
    "объект 61м2 стоит $74570\n",
    "\n",
    "Вопрос: что. сказать риелтору?\n",
    "\n",
    "<a><b>f(x) = a*x**2 + b*x + c</b></a>\n",
    "\n",
    "<a>a * (31) ** 2 + b * 31 + c = 19310</a>\n",
    "\n",
    "<a>a * (51) ** 2 + b * 51 + c = 52150</a>\n",
    "\n",
    "<a>a * (61) ** 2 + b * 61 + c = 74570</a>"
   ]
  },
  {
   "cell_type": "code",
   "execution_count": 13,
   "metadata": {},
   "outputs": [],
   "source": [
    "from scipy.linalg import solve\n",
    "from sympy import *\n",
    "from numpy import array\n",
    "from sympy.abc import x"
   ]
  },
  {
   "cell_type": "code",
   "execution_count": 8,
   "metadata": {},
   "outputs": [
    {
     "data": {
      "text/plain": [
       "array([20.,  2., 28.])"
      ]
     },
     "execution_count": 8,
     "metadata": {},
     "output_type": "execute_result"
    }
   ],
   "source": [
    "# найдём коэффициенты\n",
    "a = array([[961, 31, 1], [2601, 51, 1], [3721, 61, 1]])\n",
    "b = array([19310, 52150, 74570])\n",
    "\n",
    "x_array = solve(a, b)\n",
    "x_array"
   ]
  },
  {
   "cell_type": "code",
   "execution_count": 9,
   "metadata": {},
   "outputs": [
    {
     "name": "stdout",
     "output_type": "stream",
     "text": [
      "46204\n",
      "58456\n"
     ]
    }
   ],
   "source": [
    "# решим уравнения для значений 48 и 54 кв.м\n",
    "dan = [48, 54]\n",
    "for i in dan:\n",
    "    print(int(x_array[0] * i**2 + x_array[1] * i + x_array[2]))"
   ]
  },
  {
   "cell_type": "code",
   "execution_count": 15,
   "metadata": {},
   "outputs": [
    {
     "name": "stdout",
     "output_type": "stream",
     "text": [
      "46204\n",
      "58456\n"
     ]
    }
   ],
   "source": [
    "fx = x_array[0] * x**2 + x_array[1] * x + x_array[2]\n",
    "print(int(fx.subs(x, 48)))\n",
    "print(int(fx.subs(x, 54)))"
   ]
  }
 ],
 "metadata": {
  "kernelspec": {
   "display_name": "Python 3",
   "language": "python",
   "name": "python3"
  },
  "language_info": {
   "codemirror_mode": {
    "name": "ipython",
    "version": 3
   },
   "file_extension": ".py",
   "mimetype": "text/x-python",
   "name": "python",
   "nbconvert_exporter": "python",
   "pygments_lexer": "ipython3",
   "version": "3.10.8"
  },
  "orig_nbformat": 4,
  "vscode": {
   "interpreter": {
    "hash": "e64600e1e1dc76d2187cb16fde45202aeb55d6e2f6b7519202b0d2d69b967e74"
   }
  }
 },
 "nbformat": 4,
 "nbformat_minor": 2
}
